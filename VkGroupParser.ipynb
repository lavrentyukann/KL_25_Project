{
 "cells": [
  {
   "metadata": {},
   "cell_type": "markdown",
   "source": [
    "Парсинг группы ВКонтакте \"Большой МИР маленьких ДЕТЕЙ\"\n",
    "(mir.detey)"
   ],
   "id": "2c4d2e63f9dc60a0"
  },
  {
   "metadata": {
    "ExecuteTime": {
     "end_time": "2025-02-17T22:41:29.032830Z",
     "start_time": "2025-02-17T22:41:24.422366Z"
    }
   },
   "cell_type": "code",
   "source": [
    "!pip install vk_api\n",
    "!pip install tqdm\n",
    "!pip install pandas\n",
    "!pip install nltk\n",
    "!pip install pymystem3\n",
    "!pip install wordcloud\n",
    "!pip install matplotlib\n",
    "!pip install scikit-learn\n",
    "!pip install TextBlob"
   ],
   "id": "bae0e073c7c8c4f4",
   "outputs": [
    {
     "name": "stdout",
     "output_type": "stream",
     "text": [
      "/bin/bash: warning: setlocale: LC_ALL: cannot change locale (en_US.UTF-8)\r\n",
      "Requirement already satisfied: vk_api in /home/anna/anaconda3/envs/VkGroupProject/lib/python3.12/site-packages (11.9.9)\r\n",
      "Requirement already satisfied: requests in /home/anna/anaconda3/envs/VkGroupProject/lib/python3.12/site-packages (from vk_api) (2.32.3)\r\n",
      "Requirement already satisfied: charset-normalizer<4,>=2 in /home/anna/anaconda3/envs/VkGroupProject/lib/python3.12/site-packages (from requests->vk_api) (3.3.2)\r\n",
      "Requirement already satisfied: idna<4,>=2.5 in /home/anna/anaconda3/envs/VkGroupProject/lib/python3.12/site-packages (from requests->vk_api) (3.7)\r\n",
      "Requirement already satisfied: urllib3<3,>=1.21.1 in /home/anna/anaconda3/envs/VkGroupProject/lib/python3.12/site-packages (from requests->vk_api) (2.3.0)\r\n",
      "Requirement already satisfied: certifi>=2017.4.17 in /home/anna/anaconda3/envs/VkGroupProject/lib/python3.12/site-packages (from requests->vk_api) (2025.1.31)\r\n",
      "/bin/bash: warning: setlocale: LC_ALL: cannot change locale (en_US.UTF-8)\r\n",
      "Requirement already satisfied: tqdm in /home/anna/anaconda3/envs/VkGroupProject/lib/python3.12/site-packages (4.67.1)\r\n",
      "/bin/bash: warning: setlocale: LC_ALL: cannot change locale (en_US.UTF-8)\r\n",
      "Requirement already satisfied: pandas in /home/anna/anaconda3/envs/VkGroupProject/lib/python3.12/site-packages (2.2.3)\r\n",
      "Requirement already satisfied: numpy>=1.26.0 in /home/anna/anaconda3/envs/VkGroupProject/lib/python3.12/site-packages (from pandas) (2.2.2)\r\n",
      "Requirement already satisfied: python-dateutil>=2.8.2 in /home/anna/anaconda3/envs/VkGroupProject/lib/python3.12/site-packages (from pandas) (2.9.0.post0)\r\n",
      "Requirement already satisfied: pytz>=2020.1 in /home/anna/anaconda3/envs/VkGroupProject/lib/python3.12/site-packages (from pandas) (2025.1)\r\n",
      "Requirement already satisfied: tzdata>=2022.7 in /home/anna/anaconda3/envs/VkGroupProject/lib/python3.12/site-packages (from pandas) (2025.1)\r\n",
      "Requirement already satisfied: six>=1.5 in /home/anna/anaconda3/envs/VkGroupProject/lib/python3.12/site-packages (from python-dateutil>=2.8.2->pandas) (1.16.0)\r\n",
      "/bin/bash: warning: setlocale: LC_ALL: cannot change locale (en_US.UTF-8)\r\n",
      "Requirement already satisfied: nltk in /home/anna/anaconda3/envs/VkGroupProject/lib/python3.12/site-packages (3.9.1)\r\n",
      "Requirement already satisfied: click in /home/anna/anaconda3/envs/VkGroupProject/lib/python3.12/site-packages (from nltk) (8.1.8)\r\n",
      "Requirement already satisfied: joblib in /home/anna/anaconda3/envs/VkGroupProject/lib/python3.12/site-packages (from nltk) (1.4.2)\r\n",
      "Requirement already satisfied: regex>=2021.8.3 in /home/anna/anaconda3/envs/VkGroupProject/lib/python3.12/site-packages (from nltk) (2024.11.6)\r\n",
      "Requirement already satisfied: tqdm in /home/anna/anaconda3/envs/VkGroupProject/lib/python3.12/site-packages (from nltk) (4.67.1)\r\n",
      "/bin/bash: warning: setlocale: LC_ALL: cannot change locale (en_US.UTF-8)\r\n",
      "Requirement already satisfied: pymystem3 in /home/anna/anaconda3/envs/VkGroupProject/lib/python3.12/site-packages (0.2.0)\r\n",
      "Requirement already satisfied: requests in /home/anna/anaconda3/envs/VkGroupProject/lib/python3.12/site-packages (from pymystem3) (2.32.3)\r\n",
      "Requirement already satisfied: charset-normalizer<4,>=2 in /home/anna/anaconda3/envs/VkGroupProject/lib/python3.12/site-packages (from requests->pymystem3) (3.3.2)\r\n",
      "Requirement already satisfied: idna<4,>=2.5 in /home/anna/anaconda3/envs/VkGroupProject/lib/python3.12/site-packages (from requests->pymystem3) (3.7)\r\n",
      "Requirement already satisfied: urllib3<3,>=1.21.1 in /home/anna/anaconda3/envs/VkGroupProject/lib/python3.12/site-packages (from requests->pymystem3) (2.3.0)\r\n",
      "Requirement already satisfied: certifi>=2017.4.17 in /home/anna/anaconda3/envs/VkGroupProject/lib/python3.12/site-packages (from requests->pymystem3) (2025.1.31)\r\n",
      "/bin/bash: warning: setlocale: LC_ALL: cannot change locale (en_US.UTF-8)\r\n",
      "Requirement already satisfied: wordcloud in /home/anna/anaconda3/envs/VkGroupProject/lib/python3.12/site-packages (1.9.4)\r\n",
      "Requirement already satisfied: numpy>=1.6.1 in /home/anna/anaconda3/envs/VkGroupProject/lib/python3.12/site-packages (from wordcloud) (2.2.2)\r\n",
      "Requirement already satisfied: pillow in /home/anna/anaconda3/envs/VkGroupProject/lib/python3.12/site-packages (from wordcloud) (11.1.0)\r\n",
      "Requirement already satisfied: matplotlib in /home/anna/anaconda3/envs/VkGroupProject/lib/python3.12/site-packages (from wordcloud) (3.10.0)\r\n",
      "Requirement already satisfied: contourpy>=1.0.1 in /home/anna/anaconda3/envs/VkGroupProject/lib/python3.12/site-packages (from matplotlib->wordcloud) (1.3.1)\r\n",
      "Requirement already satisfied: cycler>=0.10 in /home/anna/anaconda3/envs/VkGroupProject/lib/python3.12/site-packages (from matplotlib->wordcloud) (0.12.1)\r\n",
      "Requirement already satisfied: fonttools>=4.22.0 in /home/anna/anaconda3/envs/VkGroupProject/lib/python3.12/site-packages (from matplotlib->wordcloud) (4.55.8)\r\n",
      "Requirement already satisfied: kiwisolver>=1.3.1 in /home/anna/anaconda3/envs/VkGroupProject/lib/python3.12/site-packages (from matplotlib->wordcloud) (1.4.8)\r\n",
      "Requirement already satisfied: packaging>=20.0 in /home/anna/anaconda3/envs/VkGroupProject/lib/python3.12/site-packages (from matplotlib->wordcloud) (24.2)\r\n",
      "Requirement already satisfied: pyparsing>=2.3.1 in /home/anna/anaconda3/envs/VkGroupProject/lib/python3.12/site-packages (from matplotlib->wordcloud) (3.2.1)\r\n",
      "Requirement already satisfied: python-dateutil>=2.7 in /home/anna/anaconda3/envs/VkGroupProject/lib/python3.12/site-packages (from matplotlib->wordcloud) (2.9.0.post0)\r\n",
      "Requirement already satisfied: six>=1.5 in /home/anna/anaconda3/envs/VkGroupProject/lib/python3.12/site-packages (from python-dateutil>=2.7->matplotlib->wordcloud) (1.16.0)\r\n",
      "/bin/bash: warning: setlocale: LC_ALL: cannot change locale (en_US.UTF-8)\r\n",
      "Requirement already satisfied: matplotlib in /home/anna/anaconda3/envs/VkGroupProject/lib/python3.12/site-packages (3.10.0)\r\n",
      "Requirement already satisfied: contourpy>=1.0.1 in /home/anna/anaconda3/envs/VkGroupProject/lib/python3.12/site-packages (from matplotlib) (1.3.1)\r\n",
      "Requirement already satisfied: cycler>=0.10 in /home/anna/anaconda3/envs/VkGroupProject/lib/python3.12/site-packages (from matplotlib) (0.12.1)\r\n",
      "Requirement already satisfied: fonttools>=4.22.0 in /home/anna/anaconda3/envs/VkGroupProject/lib/python3.12/site-packages (from matplotlib) (4.55.8)\r\n",
      "Requirement already satisfied: kiwisolver>=1.3.1 in /home/anna/anaconda3/envs/VkGroupProject/lib/python3.12/site-packages (from matplotlib) (1.4.8)\r\n",
      "Requirement already satisfied: numpy>=1.23 in /home/anna/anaconda3/envs/VkGroupProject/lib/python3.12/site-packages (from matplotlib) (2.2.2)\r\n",
      "Requirement already satisfied: packaging>=20.0 in /home/anna/anaconda3/envs/VkGroupProject/lib/python3.12/site-packages (from matplotlib) (24.2)\r\n",
      "Requirement already satisfied: pillow>=8 in /home/anna/anaconda3/envs/VkGroupProject/lib/python3.12/site-packages (from matplotlib) (11.1.0)\r\n",
      "Requirement already satisfied: pyparsing>=2.3.1 in /home/anna/anaconda3/envs/VkGroupProject/lib/python3.12/site-packages (from matplotlib) (3.2.1)\r\n",
      "Requirement already satisfied: python-dateutil>=2.7 in /home/anna/anaconda3/envs/VkGroupProject/lib/python3.12/site-packages (from matplotlib) (2.9.0.post0)\r\n",
      "Requirement already satisfied: six>=1.5 in /home/anna/anaconda3/envs/VkGroupProject/lib/python3.12/site-packages (from python-dateutil>=2.7->matplotlib) (1.16.0)\r\n",
      "/bin/bash: warning: setlocale: LC_ALL: cannot change locale (en_US.UTF-8)\r\n",
      "Requirement already satisfied: scikit-learn in /home/anna/anaconda3/envs/VkGroupProject/lib/python3.12/site-packages (1.6.1)\r\n",
      "Requirement already satisfied: numpy>=1.19.5 in /home/anna/anaconda3/envs/VkGroupProject/lib/python3.12/site-packages (from scikit-learn) (2.2.2)\r\n",
      "Requirement already satisfied: scipy>=1.6.0 in /home/anna/anaconda3/envs/VkGroupProject/lib/python3.12/site-packages (from scikit-learn) (1.15.1)\r\n",
      "Requirement already satisfied: joblib>=1.2.0 in /home/anna/anaconda3/envs/VkGroupProject/lib/python3.12/site-packages (from scikit-learn) (1.4.2)\r\n",
      "Requirement already satisfied: threadpoolctl>=3.1.0 in /home/anna/anaconda3/envs/VkGroupProject/lib/python3.12/site-packages (from scikit-learn) (3.5.0)\r\n",
      "/bin/bash: warning: setlocale: LC_ALL: cannot change locale (en_US.UTF-8)\r\n",
      "Requirement already satisfied: TextBlob in /home/anna/anaconda3/envs/VkGroupProject/lib/python3.12/site-packages (0.19.0)\r\n",
      "Requirement already satisfied: nltk>=3.9 in /home/anna/anaconda3/envs/VkGroupProject/lib/python3.12/site-packages (from TextBlob) (3.9.1)\r\n",
      "Requirement already satisfied: click in /home/anna/anaconda3/envs/VkGroupProject/lib/python3.12/site-packages (from nltk>=3.9->TextBlob) (8.1.8)\r\n",
      "Requirement already satisfied: joblib in /home/anna/anaconda3/envs/VkGroupProject/lib/python3.12/site-packages (from nltk>=3.9->TextBlob) (1.4.2)\r\n",
      "Requirement already satisfied: regex>=2021.8.3 in /home/anna/anaconda3/envs/VkGroupProject/lib/python3.12/site-packages (from nltk>=3.9->TextBlob) (2024.11.6)\r\n",
      "Requirement already satisfied: tqdm in /home/anna/anaconda3/envs/VkGroupProject/lib/python3.12/site-packages (from nltk>=3.9->TextBlob) (4.67.1)\r\n"
     ]
    }
   ],
   "execution_count": 1
  },
  {
   "metadata": {},
   "cell_type": "markdown",
   "source": "Подключаем api вконтакте для парсинга группы",
   "id": "3f17b2e136847a27"
  },
  {
   "metadata": {
    "ExecuteTime": {
     "end_time": "2025-02-02T15:17:36.820557Z",
     "start_time": "2025-02-02T15:17:36.388780Z"
    }
   },
   "cell_type": "code",
   "source": [
    "import vk_api\n",
    "import math\n",
    "import datetime\n",
    "import time\n",
    "import pandas as pd\n",
    "from tqdm import tqdm\n",
    "\n",
    "session = vk_api.VkApi(token='<СЕКРЕТНЫЙ ТОКЕН КОТОРЫЙ НЕЛЬЗЯ ПУБЛИКОВАТЬ>')\n",
    "\n",
    "vk = session.get_api()"
   ],
   "id": "5398878862cfa220",
   "outputs": [],
   "execution_count": 2
  },
  {
   "metadata": {},
   "cell_type": "markdown",
   "source": [
    "Подготавливаю модели для оперирования в коде. Из-за того что данные которые возвращает методы апи имеют избыточность, то нам необходимо подготовить свои модели, для того чтобы сохранить только конкретные данные.\n",
    "\n",
    "\n",
    "Группа\n",
    "\n",
    "id - идентификатор группы int\n",
    "\n",
    "name - имя группы на русском языке string\n",
    "\n",
    "screen_name - имя группы на латинице"
   ],
   "id": "b610ac7bc07db3ee"
  },
  {
   "metadata": {
    "ExecuteTime": {
     "end_time": "2025-01-27T23:39:18.784988Z",
     "start_time": "2025-01-27T23:39:18.771530Z"
    }
   },
   "cell_type": "code",
   "source": [
    "class vk_group:\n",
    "    def __init__(self, id: int, name: str, screen_name: str):\n",
    "        self.id = id\n",
    "        self.name = name\n",
    "        self.screen_name = screen_name\n"
   ],
   "id": "fe4c31730338ac8c",
   "outputs": [],
   "execution_count": 2
  },
  {
   "metadata": {},
   "cell_type": "markdown",
   "source": [
    "Посты группы\n",
    "\n",
    "\n",
    "id - идентификатор поста int\n",
    "\n",
    "group_id - идентификатор группы int\n",
    "\n",
    "date - дата публикации datetime\n",
    "\n",
    "text - текст поста в группе string\n",
    "\n",
    "comments_count - количество комментариев int"
   ],
   "id": "2ad1cea4b1b432d"
  },
  {
   "metadata": {
    "ExecuteTime": {
     "end_time": "2025-01-27T23:39:19.893580Z",
     "start_time": "2025-01-27T23:39:19.886593Z"
    }
   },
   "cell_type": "code",
   "source": [
    "class vk_group_post:\n",
    "    def __init__(self, id: int, group_id: int, date: datetime, text: str, comments_count: int):\n",
    "        self.id = id\n",
    "        self.group_id = group_id\n",
    "        self.date = date\n",
    "        self.text = text\n",
    "        self.comments_count = comments_count"
   ],
   "id": "95e305a49b3833e2",
   "outputs": [],
   "execution_count": 3
  },
  {
   "metadata": {},
   "cell_type": "markdown",
   "source": [
    "Комментарии под постом группы\n",
    "\n",
    "\n",
    "id - идентификатор комментария int\n",
    "\n",
    "post_id - идентификатор поста группы int\n",
    "\n",
    "parent_id - идентификатор родительского комментария int\n",
    "\n",
    "date - дата публикации datetime\n",
    "\n",
    "user_id - идентификатор пользователя int\n",
    "\n",
    "text - текст комментария"
   ],
   "id": "ace4f06762337815"
  },
  {
   "metadata": {
    "ExecuteTime": {
     "end_time": "2025-01-27T23:39:20.949003Z",
     "start_time": "2025-01-27T23:39:20.939593Z"
    }
   },
   "cell_type": "code",
   "source": [
    "class vk_group_post_comment:\n",
    "    def __init__(self, id: int, post_id: int, parent_id: int, date: datetime, user_id: int, sub_comments_count: int, text: str):\n",
    "        self.id = int(id)\n",
    "        self.post_id = post_id\n",
    "        self.parent_id = parent_id\n",
    "        self.date = date\n",
    "        self.user_id = user_id\n",
    "        self.sub_comments_count = sub_comments_count\n",
    "        self.text = text"
   ],
   "id": "eb82ec2710459d7e",
   "outputs": [],
   "execution_count": 4
  },
  {
   "metadata": {},
   "cell_type": "markdown",
   "source": [
    "Получить информацию о группе по имени группы\n",
    "\n",
    "https://dev.vk.com/ru/method/groups.search"
   ],
   "id": "923c207dc2bfeac6"
  },
  {
   "metadata": {
    "ExecuteTime": {
     "end_time": "2025-01-27T23:39:24.511228Z",
     "start_time": "2025-01-27T23:39:22.867610Z"
    }
   },
   "cell_type": "code",
   "source": [
    "def get_group_info_by_name(group_name):\n",
    "    vk_group_info = None;\n",
    "    try:\n",
    "        group_info_from_api = vk.groups.search(q=group_name, type='group', count=1, v='5.199')['items'][0]\n",
    "        vk_group_info = vk_group(group_info_from_api[\"id\"], group_info_from_api[\"name\"], group_info_from_api[\"screen_name\"])\n",
    "    except vk_api.exceptions.ApiError as error:\n",
    "        print(f\"An error occurred: {error}\")\n",
    "\n",
    "    return vk_group_info\n",
    "\n",
    "print(vars(get_group_info_by_name('mir.detey')))"
   ],
   "id": "f6b719fffca3e0b8",
   "outputs": [
    {
     "name": "stdout",
     "output_type": "stream",
     "text": [
      "{'id': 83421847, 'name': 'Большой МИР маленьких ДЕТЕЙ', 'screen_name': 'mir.detey'}\n"
     ]
    }
   ],
   "execution_count": 5
  },
  {
   "metadata": {},
   "cell_type": "markdown",
   "source": [
    "Получить информацию о группе по идентификатору\n",
    "\n",
    "https://dev.vk.com/ru/method/groups.getById"
   ],
   "id": "a231051486701ffc"
  },
  {
   "metadata": {
    "ExecuteTime": {
     "end_time": "2025-01-27T23:39:24.899876Z",
     "start_time": "2025-01-27T23:39:24.589298Z"
    }
   },
   "cell_type": "code",
   "source": [
    "def get_group_info_by_id(group_id):\n",
    "    vk_group_info = None;\n",
    "    try:\n",
    "        group_info_from_api = vk.groups.getById(group_id=group_id, v='5.199')['groups'][0]\n",
    "        vk_group_info = vk_group(group_info_from_api[\"id\"], group_info_from_api[\"name\"], group_info_from_api[\"screen_name\"])\n",
    "    except vk_api.exceptions.ApiError as error:\n",
    "        print(f\"An error occurred: {error}\")\n",
    "\n",
    "    return vk_group_info\n",
    "\n",
    "print(vars(get_group_info_by_id(83421847)))"
   ],
   "id": "126a0718192602a9",
   "outputs": [
    {
     "name": "stdout",
     "output_type": "stream",
     "text": [
      "{'id': 83421847, 'name': 'Большой МИР маленьких ДЕТЕЙ', 'screen_name': 'mir.detey'}\n"
     ]
    }
   ],
   "execution_count": 6
  },
  {
   "metadata": {},
   "cell_type": "markdown",
   "source": [
    "Получить посты в группе по её идентификатору\n",
    "\n",
    "https://dev.vk.com/ru/method/wall.get"
   ],
   "id": "93e5fe27cc23b730"
  },
  {
   "metadata": {
    "ExecuteTime": {
     "end_time": "2025-01-27T23:39:25.009028Z",
     "start_time": "2025-01-27T23:39:25.003331Z"
    }
   },
   "cell_type": "code",
   "source": [
    "def get_posts_by_group_id(group_id, offset = 0):\n",
    "    posts = []\n",
    "    posts_count = 0\n",
    "    try:\n",
    "        response = vk.wall.get(owner_id=f'-{group_id}', count=100, offset=offset, v='5.199')\n",
    "        posts_count = response['count']\n",
    "        posts_from_api = response['items']\n",
    "        posts = [vk_group_post(post['id'], group_id, datetime.datetime.fromtimestamp(post['date']), post['text'], post['comments']['count']) for post in posts_from_api]\n",
    "    except vk_api.exceptions.ApiError as error:\n",
    "        print(f\"An error occurred: {error}\")\n",
    "\n",
    "    return posts, posts_count"
   ],
   "id": "a2e4f0e5d23e448a",
   "outputs": [],
   "execution_count": 7
  },
  {
   "metadata": {},
   "cell_type": "markdown",
   "source": [
    "Получить комментарии по посту\n",
    "\n",
    "https://dev.vk.com/ru/method/wall.getComments\n"
   ],
   "id": "850054af2a602739"
  },
  {
   "metadata": {
    "ExecuteTime": {
     "end_time": "2025-01-27T23:39:28.619623Z",
     "start_time": "2025-01-27T23:39:28.612351Z"
    }
   },
   "cell_type": "code",
   "source": [
    "def get_comments_by_post_id(group_id, post_id, offset = 0):\n",
    "    comments = []\n",
    "    try:\n",
    "        response = vk.wall.getComments(owner_id=f'-{group_id}', post_id=post_id, count=100, offset=offset, v='5.199')\n",
    "        comments_from_api = response['items']\n",
    "        comments = [vk_group_post_comment(comment['id'], post_id, 0, datetime.datetime.fromtimestamp(comment['date']), comment['from_id'], comment['thread']['count'], comment['text']) for comment in comments_from_api]\n",
    "    except vk_api.exceptions.ApiError as error:\n",
    "        print(f\"An error occurred: {error}\")\n",
    "\n",
    "    return comments\n",
    "\n",
    "def get_sub_comments_by_comment_id(group_id, post_id, comment_id, offset = 0):\n",
    "    sub_comments = []\n",
    "    try:\n",
    "        response = vk.wall.getComments(owner_id=f'-{group_id}', post_id=post_id, comment_id=comment_id,  count=100, offset=offset, v='5.199')\n",
    "        sub_comments_from_api = response['items']\n",
    "        sub_comments = [vk_group_post_comment(sub_comment['id'], post_id, comment_id, datetime.datetime.fromtimestamp(sub_comment['date']), sub_comment['from_id'], 0, sub_comment['text']) for sub_comment in sub_comments_from_api]\n",
    "    except vk_api.exceptions.ApiError as error:\n",
    "        print(f\"An error occurred: {error}\")\n",
    "\n",
    "    return sub_comments"
   ],
   "id": "eeecde5ae6037e60",
   "outputs": [],
   "execution_count": 8
  },
  {
   "metadata": {},
   "cell_type": "markdown",
   "source": "Метод сохранения списка в csv",
   "id": "1ee43754ac42fd5a"
  },
  {
   "metadata": {},
   "cell_type": "code",
   "outputs": [],
   "execution_count": null,
   "source": [
    "def save_list_to_csv(file_name, objects):\n",
    "    data = [obj.__dict__ for obj in objects]\n",
    "    df = pd.DataFrame(data)\n",
    "    df.to_csv(file_name, index=False, sep=';', encoding='utf-8', header=True)"
   ],
   "id": "58d061de49cc4280"
  },
  {
   "metadata": {},
   "cell_type": "markdown",
   "source": "Получаем все посты и сохраняем в переменную posts и сохраним в файл posts.csv",
   "id": "69d04619059218e3"
  },
  {
   "metadata": {},
   "cell_type": "code",
   "source": [
    "posts, posts_count = get_posts_by_group_id(83421847)\n",
    "\n",
    "if posts_count > 0:\n",
    "    current_offset = 100\n",
    "    total_post_pages = math.ceil(posts_count / 100)\n",
    "    for page in tqdm(range(1, total_post_pages)):\n",
    "        current_posts, current_posts_count = get_posts_by_group_id(83421847, current_offset)\n",
    "        posts.extend(current_posts)\n",
    "        current_offset += 100\n",
    "        time.sleep(1)\n",
    "\n",
    "save_list_to_csv('posts.csv', posts)"
   ],
   "id": "f003f6994bcea023",
   "outputs": [],
   "execution_count": null
  },
  {
   "metadata": {},
   "cell_type": "markdown",
   "source": "Получаем комментарии и подкомментарии к каждому посту и сохраняем в переменную comments и сохраним в файл comments.csv",
   "id": "48acbb2b8953126e"
  },
  {
   "metadata": {},
   "cell_type": "code",
   "source": [
    "comments = []\n",
    "for post in tqdm(posts):\n",
    "    current_comment_offset = 0\n",
    "    total_comments_pages = math.ceil(post.comments_count / 100)\n",
    "    for comment_page in range(total_comments_pages):\n",
    "        current_comments = get_comments_by_post_id(83421847, post.id, current_comment_offset)\n",
    "        comments.extend(current_comments)\n",
    "        for comment in current_comments:\n",
    "            current_sub_comment_offset = 0\n",
    "            total_sub_comments_pages = math.ceil(comment.sub_comments_count / 100)\n",
    "            for sub_comments_page in range(total_sub_comments_pages):\n",
    "                current_sub_comments = get_sub_comments_by_comment_id(83421847, post.id, comment.id, current_sub_comment_offset)\n",
    "                comments.extend(current_sub_comments)\n",
    "                current_sub_comment_offset += 100\n",
    "                time.sleep(1)\n",
    "        current_comment_offset += 100\n",
    "        time.sleep(1)\n",
    "\n",
    "save_list_to_csv('comments.csv', comments)"
   ],
   "id": "362fd2b25f6f5a26",
   "outputs": [],
   "execution_count": null
  }
 ],
 "metadata": {
  "kernelspec": {
   "display_name": "Python 3",
   "language": "python",
   "name": "python3"
  },
  "language_info": {
   "codemirror_mode": {
    "name": "ipython",
    "version": 2
   },
   "file_extension": ".py",
   "mimetype": "text/x-python",
   "name": "python",
   "nbconvert_exporter": "python",
   "pygments_lexer": "ipython2",
   "version": "2.7.6"
  }
 },
 "nbformat": 4,
 "nbformat_minor": 5
}
